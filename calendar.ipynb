{
  "nbformat": 4,
  "nbformat_minor": 0,
  "metadata": {
    "colab": {
      "provenance": [],
      "authorship_tag": "ABX9TyOvf+ELpSCklnP5sXqS57k8",
      "include_colab_link": true
    },
    "kernelspec": {
      "name": "python3",
      "display_name": "Python 3"
    },
    "language_info": {
      "name": "python"
    }
  },
  "cells": [
    {
      "cell_type": "markdown",
      "metadata": {
        "id": "view-in-github",
        "colab_type": "text"
      },
      "source": [
        "<a href=\"https://colab.research.google.com/github/subinjojo/23-python3rd/blob/main/calendar.ipynb\" target=\"_parent\"><img src=\"https://colab.research.google.com/assets/colab-badge.svg\" alt=\"Open In Colab\"/></a>"
      ]
    },
    {
      "cell_type": "code",
      "execution_count": null,
      "metadata": {
        "colab": {
          "base_uri": "https://localhost:8080/"
        },
        "id": "1s0h_ZpzYukO",
        "outputId": "1ecccf37-014f-4afa-ce97-ff0f75171024"
      },
      "outputs": [
        {
          "output_type": "stream",
          "name": "stdout",
          "text": [
            "    October 2023\n",
            "Mo Tu We Th Fr Sa Su\n",
            "                   1\n",
            " 2  3  4  5  6  7  8\n",
            " 9 10 11 12 13 14 15\n",
            "16 17 18 19 20 21 22\n",
            "23 24 25 26 27 28 29\n",
            "30 31\n",
            "\n"
          ]
        }
      ],
      "source": [
        "import calendar\n",
        "yy = 2023\n",
        "mm = 10\n",
        "print(calendar.month(yy,mm))"
      ]
    },
    {
      "cell_type": "markdown",
      "source": [
        "2023년 10월 19일 To Do List\n",
        " -09:00~11:00 컴퓨터적사고와 기초코딩\n",
        " -11:00~12:00 아동건강\n",
        " -12:00~14:00 시외버스\n",
        " -14:00~15:00 휴식\n",
        " -15:00~18:00 공부"
      ],
      "metadata": {
        "id": "IBK5yTuGfzDd"
      }
    },
    {
      "cell_type": "code",
      "source": [
        "print(\"hello world\")\n",
        "print(\"-09:00~11:00 컴퓨터적사고와 기초코딩\")\n",
        "print(\"-11:00~12:00 아동건강\")\n",
        "print(\"-12:00~14:00 시외버스\")\n",
        "print(\"-14:00~15:00 휴식\")\n",
        "print(\"-15:00~18:00 공부\")"
      ],
      "metadata": {
        "colab": {
          "base_uri": "https://localhost:8080/"
        },
        "id": "1WQK8eK-cFc7",
        "outputId": "da59ac85-cf9a-48d3-b9d4-154878c3217a"
      },
      "execution_count": null,
      "outputs": [
        {
          "output_type": "stream",
          "name": "stdout",
          "text": [
            "hello world\n",
            "-09:00~11:00 컴퓨터적사고와 기초코딩\n",
            "-11:00~12:00 아동건강\n",
            "-12:00~14:00 시외버스\n",
            "-14:00~15:00 휴식\n",
            "-15:00~18:00 공부\n"
          ]
        }
      ]
    }
  ]
}